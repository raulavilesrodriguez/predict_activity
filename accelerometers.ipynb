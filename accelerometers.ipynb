{
 "cells": [
  {
   "cell_type": "markdown",
   "id": "d3d5978b",
   "metadata": {},
   "source": [
    "# Project: Predicting the type of physical activity (eg, walking, climbing stairs) from smartphone triaxial accelerometer data\n",
    "\n",
    "In this project, we'll attempt to predict the type of physical activity (e.g., walking, climbing stairs) from tri-axial smartphone accelerometer data. Smartphone accelerometers are very precise, and different physical activities give rise to different patterns of acceleration."
   ]
  },
  {
   "cell_type": "markdown",
   "id": "8e6ba91d",
   "metadata": {},
   "source": [
    "Importing the neccesary packages"
   ]
  },
  {
   "cell_type": "code",
   "execution_count": 1,
   "id": "05a294fa",
   "metadata": {},
   "outputs": [],
   "source": [
    "import pandas as pd\n",
    "import numpy as np\n",
    "\n",
    "from sklearn.model_selection import cross_val_score\n",
    "from sklearn.linear_model import LogisticRegression\n",
    "from sklearn.ensemble import RandomForestClassifier\n",
    "from sklearn.metrics import accuracy_score\n",
    "import matplotlib.pyplot as plt\n",
    "import seaborn as sns\n",
    "from sklearn.model_selection import train_test_split\n",
    "from imblearn.over_sampling import SMOTE\n",
    "from sklearn.model_selection import cross_validate\n",
    "from sklearn.model_selection import RepeatedStratifiedKFold\n",
    "from sklearn.metrics import plot_confusion_matrix\n",
    "from statistics import mean\n",
    "import time\n",
    "\n",
    "import warnings\n",
    "warnings.filterwarnings(\"ignore\")\n",
    "start_time= time.process_time()"
   ]
  },
  {
   "cell_type": "markdown",
   "id": "dc4f6637",
   "metadata": {},
   "source": [
    "Load the different training .csv files. \n",
    "The first file **train_time_series.csv**, contains the raw accelerometer data in the following file formats:\n",
    "- Timestamp\n",
    "- UTC time\n",
    "- Accuracy\n",
    "- x, y, z\n",
    "The second file train_labels.csv contains the activity labels, and we'll be using these label to train our model.\n",
    "Various activities have been labelled as follows:\n",
    "- 1 => Standing\n",
    "- 2 => Walking\n",
    "- 3 => Climbing down the stairs.\n",
    "- 4 => Climbing up the stairs."
   ]
  },
  {
   "cell_type": "code",
   "execution_count": 2,
   "id": "af2ff2d9",
   "metadata": {},
   "outputs": [
    {
     "data": {
      "text/html": [
       "<div>\n",
       "<style scoped>\n",
       "    .dataframe tbody tr th:only-of-type {\n",
       "        vertical-align: middle;\n",
       "    }\n",
       "\n",
       "    .dataframe tbody tr th {\n",
       "        vertical-align: top;\n",
       "    }\n",
       "\n",
       "    .dataframe thead th {\n",
       "        text-align: right;\n",
       "    }\n",
       "</style>\n",
       "<table border=\"1\" class=\"dataframe\">\n",
       "  <thead>\n",
       "    <tr style=\"text-align: right;\">\n",
       "      <th></th>\n",
       "      <th>Unnamed: 0</th>\n",
       "      <th>timestamp</th>\n",
       "      <th>UTC time</th>\n",
       "      <th>accuracy</th>\n",
       "      <th>x</th>\n",
       "      <th>y</th>\n",
       "      <th>z</th>\n",
       "    </tr>\n",
       "  </thead>\n",
       "  <tbody>\n",
       "    <tr>\n",
       "      <th>0</th>\n",
       "      <td>20586</td>\n",
       "      <td>1565109930787</td>\n",
       "      <td>2019-08-06T16:45:30.787</td>\n",
       "      <td>unknown</td>\n",
       "      <td>-0.006485</td>\n",
       "      <td>-0.934860</td>\n",
       "      <td>-0.069046</td>\n",
       "    </tr>\n",
       "    <tr>\n",
       "      <th>1</th>\n",
       "      <td>20587</td>\n",
       "      <td>1565109930887</td>\n",
       "      <td>2019-08-06T16:45:30.887</td>\n",
       "      <td>unknown</td>\n",
       "      <td>-0.066467</td>\n",
       "      <td>-1.015442</td>\n",
       "      <td>0.089554</td>\n",
       "    </tr>\n",
       "    <tr>\n",
       "      <th>2</th>\n",
       "      <td>20588</td>\n",
       "      <td>1565109930987</td>\n",
       "      <td>2019-08-06T16:45:30.987</td>\n",
       "      <td>unknown</td>\n",
       "      <td>-0.043488</td>\n",
       "      <td>-1.021255</td>\n",
       "      <td>0.178467</td>\n",
       "    </tr>\n",
       "    <tr>\n",
       "      <th>3</th>\n",
       "      <td>20589</td>\n",
       "      <td>1565109931087</td>\n",
       "      <td>2019-08-06T16:45:31.087</td>\n",
       "      <td>unknown</td>\n",
       "      <td>-0.053802</td>\n",
       "      <td>-0.987701</td>\n",
       "      <td>0.068985</td>\n",
       "    </tr>\n",
       "    <tr>\n",
       "      <th>4</th>\n",
       "      <td>20590</td>\n",
       "      <td>1565109931188</td>\n",
       "      <td>2019-08-06T16:45:31.188</td>\n",
       "      <td>unknown</td>\n",
       "      <td>-0.054031</td>\n",
       "      <td>-1.003616</td>\n",
       "      <td>0.126450</td>\n",
       "    </tr>\n",
       "    <tr>\n",
       "      <th>...</th>\n",
       "      <td>...</td>\n",
       "      <td>...</td>\n",
       "      <td>...</td>\n",
       "      <td>...</td>\n",
       "      <td>...</td>\n",
       "      <td>...</td>\n",
       "      <td>...</td>\n",
       "    </tr>\n",
       "    <tr>\n",
       "      <th>3739</th>\n",
       "      <td>24325</td>\n",
       "      <td>1565110305638</td>\n",
       "      <td>2019-08-06T16:51:45.638</td>\n",
       "      <td>unknown</td>\n",
       "      <td>0.024384</td>\n",
       "      <td>-0.710709</td>\n",
       "      <td>0.030304</td>\n",
       "    </tr>\n",
       "    <tr>\n",
       "      <th>3740</th>\n",
       "      <td>24326</td>\n",
       "      <td>1565110305738</td>\n",
       "      <td>2019-08-06T16:51:45.738</td>\n",
       "      <td>unknown</td>\n",
       "      <td>0.487228</td>\n",
       "      <td>-1.099136</td>\n",
       "      <td>-0.015213</td>\n",
       "    </tr>\n",
       "    <tr>\n",
       "      <th>3741</th>\n",
       "      <td>24327</td>\n",
       "      <td>1565110305838</td>\n",
       "      <td>2019-08-06T16:51:45.838</td>\n",
       "      <td>unknown</td>\n",
       "      <td>0.369446</td>\n",
       "      <td>-0.968506</td>\n",
       "      <td>0.036713</td>\n",
       "    </tr>\n",
       "    <tr>\n",
       "      <th>3742</th>\n",
       "      <td>24328</td>\n",
       "      <td>1565110305939</td>\n",
       "      <td>2019-08-06T16:51:45.939</td>\n",
       "      <td>unknown</td>\n",
       "      <td>0.167877</td>\n",
       "      <td>-0.802826</td>\n",
       "      <td>0.049805</td>\n",
       "    </tr>\n",
       "    <tr>\n",
       "      <th>3743</th>\n",
       "      <td>24329</td>\n",
       "      <td>1565110306039</td>\n",
       "      <td>2019-08-06T16:51:46.039</td>\n",
       "      <td>unknown</td>\n",
       "      <td>0.689346</td>\n",
       "      <td>-0.991043</td>\n",
       "      <td>0.034973</td>\n",
       "    </tr>\n",
       "  </tbody>\n",
       "</table>\n",
       "<p>3744 rows × 7 columns</p>\n",
       "</div>"
      ],
      "text/plain": [
       "      Unnamed: 0      timestamp                 UTC time accuracy         x  \\\n",
       "0          20586  1565109930787  2019-08-06T16:45:30.787  unknown -0.006485   \n",
       "1          20587  1565109930887  2019-08-06T16:45:30.887  unknown -0.066467   \n",
       "2          20588  1565109930987  2019-08-06T16:45:30.987  unknown -0.043488   \n",
       "3          20589  1565109931087  2019-08-06T16:45:31.087  unknown -0.053802   \n",
       "4          20590  1565109931188  2019-08-06T16:45:31.188  unknown -0.054031   \n",
       "...          ...            ...                      ...      ...       ...   \n",
       "3739       24325  1565110305638  2019-08-06T16:51:45.638  unknown  0.024384   \n",
       "3740       24326  1565110305738  2019-08-06T16:51:45.738  unknown  0.487228   \n",
       "3741       24327  1565110305838  2019-08-06T16:51:45.838  unknown  0.369446   \n",
       "3742       24328  1565110305939  2019-08-06T16:51:45.939  unknown  0.167877   \n",
       "3743       24329  1565110306039  2019-08-06T16:51:46.039  unknown  0.689346   \n",
       "\n",
       "             y         z  \n",
       "0    -0.934860 -0.069046  \n",
       "1    -1.015442  0.089554  \n",
       "2    -1.021255  0.178467  \n",
       "3    -0.987701  0.068985  \n",
       "4    -1.003616  0.126450  \n",
       "...        ...       ...  \n",
       "3739 -0.710709  0.030304  \n",
       "3740 -1.099136 -0.015213  \n",
       "3741 -0.968506  0.036713  \n",
       "3742 -0.802826  0.049805  \n",
       "3743 -0.991043  0.034973  \n",
       "\n",
       "[3744 rows x 7 columns]"
      ]
     },
     "execution_count": 2,
     "metadata": {},
     "output_type": "execute_result"
    }
   ],
   "source": [
    "#%% load the different training .csv files\n",
    "df_train_time = pd.read_csv('train_time_series.csv')\n",
    "df_train_labels = pd.read_csv('train_labels.csv')\n",
    "df_train_time"
   ]
  },
  {
   "cell_type": "markdown",
   "id": "d62e08d2",
   "metadata": {},
   "source": [
    "## Process the information\n",
    "In this part we process the information. We calculate various engineering signal features.\n",
    "- magnitude: The Euclidean Norm Minus One (ENMO) with negative values rounded to zero in g has been shown to correlate with the magnitude of acceleration and human energy expenditure.\n",
    "- alfa, beta: Calculate pitch and roll tilt angle, which produces constant sensitivity over 360° of rotation.\n",
    "- lids: Locomotor Inactivity During Sleep (LIDS)24 involves a non-linear conversion of locomotor activity and has shown to be sensitive to ultradian sleep cycles."
   ]
  },
  {
   "cell_type": "code",
   "execution_count": 3,
   "id": "09d8b98f",
   "metadata": {},
   "outputs": [
    {
     "data": {
      "text/html": [
       "<div>\n",
       "<style scoped>\n",
       "    .dataframe tbody tr th:only-of-type {\n",
       "        vertical-align: middle;\n",
       "    }\n",
       "\n",
       "    .dataframe tbody tr th {\n",
       "        vertical-align: top;\n",
       "    }\n",
       "\n",
       "    .dataframe thead th {\n",
       "        text-align: right;\n",
       "    }\n",
       "</style>\n",
       "<table border=\"1\" class=\"dataframe\">\n",
       "  <thead>\n",
       "    <tr style=\"text-align: right;\">\n",
       "      <th></th>\n",
       "      <th>code</th>\n",
       "      <th>timestamp</th>\n",
       "      <th>UTC time</th>\n",
       "      <th>accuracy</th>\n",
       "      <th>x</th>\n",
       "      <th>y</th>\n",
       "      <th>z</th>\n",
       "      <th>magnitude</th>\n",
       "      <th>alfa</th>\n",
       "      <th>beta</th>\n",
       "      <th>lids</th>\n",
       "    </tr>\n",
       "  </thead>\n",
       "  <tbody>\n",
       "    <tr>\n",
       "      <th>0</th>\n",
       "      <td>20586</td>\n",
       "      <td>1565109930787</td>\n",
       "      <td>2019-08-06T16:45:30.787</td>\n",
       "      <td>unknown</td>\n",
       "      <td>-0.006485</td>\n",
       "      <td>-0.934860</td>\n",
       "      <td>-0.069046</td>\n",
       "      <td>0.000000</td>\n",
       "      <td>-0.006918</td>\n",
       "      <td>-1.496750</td>\n",
       "      <td>100.000000</td>\n",
       "    </tr>\n",
       "    <tr>\n",
       "      <th>1</th>\n",
       "      <td>20587</td>\n",
       "      <td>1565109930887</td>\n",
       "      <td>2019-08-06T16:45:30.887</td>\n",
       "      <td>unknown</td>\n",
       "      <td>-0.066467</td>\n",
       "      <td>-1.015442</td>\n",
       "      <td>0.089554</td>\n",
       "      <td>0.021548</td>\n",
       "      <td>-0.065111</td>\n",
       "      <td>-1.461406</td>\n",
       "      <td>99.845453</td>\n",
       "    </tr>\n",
       "    <tr>\n",
       "      <th>2</th>\n",
       "      <td>20588</td>\n",
       "      <td>1565109930987</td>\n",
       "      <td>2019-08-06T16:45:30.987</td>\n",
       "      <td>unknown</td>\n",
       "      <td>-0.043488</td>\n",
       "      <td>-1.021255</td>\n",
       "      <td>0.178467</td>\n",
       "      <td>0.037644</td>\n",
       "      <td>-0.041922</td>\n",
       "      <td>-1.392834</td>\n",
       "      <td>98.266225</td>\n",
       "    </tr>\n",
       "    <tr>\n",
       "      <th>3</th>\n",
       "      <td>20589</td>\n",
       "      <td>1565109931087</td>\n",
       "      <td>2019-08-06T16:45:31.087</td>\n",
       "      <td>unknown</td>\n",
       "      <td>-0.053802</td>\n",
       "      <td>-0.987701</td>\n",
       "      <td>0.068985</td>\n",
       "      <td>0.000000</td>\n",
       "      <td>-0.054287</td>\n",
       "      <td>-1.482452</td>\n",
       "      <td>100.000000</td>\n",
       "    </tr>\n",
       "    <tr>\n",
       "      <th>4</th>\n",
       "      <td>20590</td>\n",
       "      <td>1565109931188</td>\n",
       "      <td>2019-08-06T16:45:31.188</td>\n",
       "      <td>unknown</td>\n",
       "      <td>-0.054031</td>\n",
       "      <td>-1.003616</td>\n",
       "      <td>0.126450</td>\n",
       "      <td>0.012993</td>\n",
       "      <td>-0.053364</td>\n",
       "      <td>-1.434630</td>\n",
       "      <td>100.000000</td>\n",
       "    </tr>\n",
       "  </tbody>\n",
       "</table>\n",
       "</div>"
      ],
      "text/plain": [
       "    code      timestamp                 UTC time accuracy         x         y  \\\n",
       "0  20586  1565109930787  2019-08-06T16:45:30.787  unknown -0.006485 -0.934860   \n",
       "1  20587  1565109930887  2019-08-06T16:45:30.887  unknown -0.066467 -1.015442   \n",
       "2  20588  1565109930987  2019-08-06T16:45:30.987  unknown -0.043488 -1.021255   \n",
       "3  20589  1565109931087  2019-08-06T16:45:31.087  unknown -0.053802 -0.987701   \n",
       "4  20590  1565109931188  2019-08-06T16:45:31.188  unknown -0.054031 -1.003616   \n",
       "\n",
       "          z  magnitude      alfa      beta        lids  \n",
       "0 -0.069046   0.000000 -0.006918 -1.496750  100.000000  \n",
       "1  0.089554   0.021548 -0.065111 -1.461406   99.845453  \n",
       "2  0.178467   0.037644 -0.041922 -1.392834   98.266225  \n",
       "3  0.068985   0.000000 -0.054287 -1.482452  100.000000  \n",
       "4  0.126450   0.012993 -0.053364 -1.434630  100.000000  "
      ]
     },
     "execution_count": 3,
     "metadata": {},
     "output_type": "execute_result"
    }
   ],
   "source": [
    "#%% Pre-Process the training files\n",
    "df_train_time.rename(columns={'Unnamed: 0': 'code'}, inplace=True)\n",
    "df_train_labels.rename(columns={'Unnamed: 0': 'code'}, inplace=True)\n",
    "\n",
    "def calculos_engineer(x, y, z, df_in, df_out, inicio):\n",
    "    df_in['magnitude'] = np.maximum(0, np.sqrt(np.square(x) + np.square(y) + np.square(z))-1)\n",
    "    df_in['alfa'] = np.arctan(x / np.sqrt(np.square(y) + np.square(z)))\n",
    "    df_in['beta'] = np.arctan(y / np.sqrt(np.square(x) + np.square(z)))\n",
    "    activity_count = np.maximum(0, df_in['magnitude'] -0.02)\n",
    "    df_in['lids'] = 100 / (activity_count + 1)\n",
    "    \n",
    "    x = []\n",
    "    y = []\n",
    "    z = []\n",
    "    magnitude = []\n",
    "    alfa = []\n",
    "    beta = []\n",
    "    lids = []\n",
    "\n",
    "    for i in range(inicio, len(df_in), 10):\n",
    "        x.append(df_in.x[i])\n",
    "        y.append(df_in.y[i])\n",
    "        z.append(df_in.z[i])\n",
    "        magnitude.append(df_in.magnitude[i])\n",
    "        alfa.append(df_in.alfa[i])\n",
    "        beta.append(df_in.beta[i])\n",
    "        lids.append(df_in.lids[i])\n",
    "    \n",
    "    df = df_out.copy()\n",
    "    df['x'] = x\n",
    "    df['y'] = y\n",
    "    df['z'] = z\n",
    "    df['magnitude'] = magnitude\n",
    "    df['alfa'] = alfa\n",
    "    df['beta'] = beta\n",
    "    df['lids'] = lids\n",
    "    \n",
    "    return df\n",
    "\n",
    "x_0 = df_train_time.x\n",
    "y_0 = df_train_time.y\n",
    "z_0 = df_train_time.z\n",
    "inicio = 3\n",
    "df = calculos_engineer(x_0, y_0, z_0, df_train_time, df_train_labels, inicio)\n",
    "\n",
    "df_train_time.head()"
   ]
  },
  {
   "cell_type": "code",
   "execution_count": 4,
   "id": "9a9c75db",
   "metadata": {},
   "outputs": [
    {
     "data": {
      "text/html": [
       "<div>\n",
       "<style scoped>\n",
       "    .dataframe tbody tr th:only-of-type {\n",
       "        vertical-align: middle;\n",
       "    }\n",
       "\n",
       "    .dataframe tbody tr th {\n",
       "        vertical-align: top;\n",
       "    }\n",
       "\n",
       "    .dataframe thead th {\n",
       "        text-align: right;\n",
       "    }\n",
       "</style>\n",
       "<table border=\"1\" class=\"dataframe\">\n",
       "  <thead>\n",
       "    <tr style=\"text-align: right;\">\n",
       "      <th></th>\n",
       "      <th>code</th>\n",
       "      <th>timestamp</th>\n",
       "      <th>UTC time</th>\n",
       "      <th>label</th>\n",
       "      <th>x</th>\n",
       "      <th>y</th>\n",
       "      <th>z</th>\n",
       "      <th>magnitude</th>\n",
       "      <th>alfa</th>\n",
       "      <th>beta</th>\n",
       "      <th>lids</th>\n",
       "    </tr>\n",
       "  </thead>\n",
       "  <tbody>\n",
       "    <tr>\n",
       "      <th>0</th>\n",
       "      <td>20589</td>\n",
       "      <td>1565109931087</td>\n",
       "      <td>2019-08-06T16:45:31.087</td>\n",
       "      <td>1</td>\n",
       "      <td>-0.053802</td>\n",
       "      <td>-0.987701</td>\n",
       "      <td>0.068985</td>\n",
       "      <td>0.000000</td>\n",
       "      <td>-0.054287</td>\n",
       "      <td>-1.482452</td>\n",
       "      <td>100.00000</td>\n",
       "    </tr>\n",
       "    <tr>\n",
       "      <th>1</th>\n",
       "      <td>20599</td>\n",
       "      <td>1565109932090</td>\n",
       "      <td>2019-08-06T16:45:32.090</td>\n",
       "      <td>1</td>\n",
       "      <td>0.013718</td>\n",
       "      <td>-0.852371</td>\n",
       "      <td>-0.000870</td>\n",
       "      <td>0.000000</td>\n",
       "      <td>0.016092</td>\n",
       "      <td>-1.554672</td>\n",
       "      <td>100.00000</td>\n",
       "    </tr>\n",
       "    <tr>\n",
       "      <th>2</th>\n",
       "      <td>20609</td>\n",
       "      <td>1565109933092</td>\n",
       "      <td>2019-08-06T16:45:33.092</td>\n",
       "      <td>1</td>\n",
       "      <td>0.145584</td>\n",
       "      <td>-1.007843</td>\n",
       "      <td>-0.036819</td>\n",
       "      <td>0.018969</td>\n",
       "      <td>0.143365</td>\n",
       "      <td>-1.422885</td>\n",
       "      <td>100.00000</td>\n",
       "    </tr>\n",
       "    <tr>\n",
       "      <th>3</th>\n",
       "      <td>20619</td>\n",
       "      <td>1565109934094</td>\n",
       "      <td>2019-08-06T16:45:34.094</td>\n",
       "      <td>1</td>\n",
       "      <td>-0.099380</td>\n",
       "      <td>-1.209686</td>\n",
       "      <td>0.304489</td>\n",
       "      <td>0.251372</td>\n",
       "      <td>-0.079501</td>\n",
       "      <td>-1.311959</td>\n",
       "      <td>81.21025</td>\n",
       "    </tr>\n",
       "    <tr>\n",
       "      <th>4</th>\n",
       "      <td>20629</td>\n",
       "      <td>1565109935097</td>\n",
       "      <td>2019-08-06T16:45:35.097</td>\n",
       "      <td>1</td>\n",
       "      <td>0.082794</td>\n",
       "      <td>-1.001434</td>\n",
       "      <td>-0.025375</td>\n",
       "      <td>0.005171</td>\n",
       "      <td>0.082462</td>\n",
       "      <td>-1.484539</td>\n",
       "      <td>100.00000</td>\n",
       "    </tr>\n",
       "  </tbody>\n",
       "</table>\n",
       "</div>"
      ],
      "text/plain": [
       "    code      timestamp                 UTC time  label         x         y  \\\n",
       "0  20589  1565109931087  2019-08-06T16:45:31.087      1 -0.053802 -0.987701   \n",
       "1  20599  1565109932090  2019-08-06T16:45:32.090      1  0.013718 -0.852371   \n",
       "2  20609  1565109933092  2019-08-06T16:45:33.092      1  0.145584 -1.007843   \n",
       "3  20619  1565109934094  2019-08-06T16:45:34.094      1 -0.099380 -1.209686   \n",
       "4  20629  1565109935097  2019-08-06T16:45:35.097      1  0.082794 -1.001434   \n",
       "\n",
       "          z  magnitude      alfa      beta       lids  \n",
       "0  0.068985   0.000000 -0.054287 -1.482452  100.00000  \n",
       "1 -0.000870   0.000000  0.016092 -1.554672  100.00000  \n",
       "2 -0.036819   0.018969  0.143365 -1.422885  100.00000  \n",
       "3  0.304489   0.251372 -0.079501 -1.311959   81.21025  \n",
       "4 -0.025375   0.005171  0.082462 -1.484539  100.00000  "
      ]
     },
     "execution_count": 4,
     "metadata": {},
     "output_type": "execute_result"
    }
   ],
   "source": [
    "df.head()"
   ]
  },
  {
   "cell_type": "markdown",
   "id": "36dc9b16",
   "metadata": {},
   "source": [
    "### Define all covariates and outcomes"
   ]
  },
  {
   "cell_type": "code",
   "execution_count": 5,
   "id": "8c2c9dfa",
   "metadata": {},
   "outputs": [],
   "source": [
    "#%% Define all covariates and outcomes from `df_train_labels`.\n",
    "classification_target = 'label'\n",
    "all_covariates = [ \n",
    "                  'alfa',\n",
    "                  'beta',\n",
    "                  'lids',\n",
    "                  'magnitude',\n",
    "                  'x',\n",
    "                  'y',\n",
    "                  'z',\n",
    "                  'timestamp'\n",
    "                  ]\n",
    "\n",
    "classification_outcome = df[classification_target]\n",
    "covariates = df[all_covariates]"
   ]
  },
  {
   "cell_type": "markdown",
   "id": "a58a1dac",
   "metadata": {},
   "source": [
    "## Exploratory Data Analysis\n",
    "### Evaluate the skew of each variable"
   ]
  },
  {
   "cell_type": "code",
   "execution_count": 6,
   "id": "dacdb9c7",
   "metadata": {},
   "outputs": [
    {
     "data": {
      "image/png": "[encoded data removed]",
      "text/plain": [
       "<Figure size 432x288 with 25 Axes>"
      ]
     },
     "metadata": {
      "needs_background": "light"
     },
     "output_type": "display_data"
    },
    {
     "name": "stdout",
     "output_type": "stream",
     "text": [
      "alfa        -0.761679\n",
      "beta         1.968191\n",
      "lids        -1.406860\n",
      "magnitude    2.525214\n",
      "x            0.294193\n",
      "y           -1.111177\n",
      "z            1.319239\n",
      "timestamp   -0.000429\n",
      "label        0.601406\n",
      "dtype: float64\n"
     ]
    }
   ],
   "source": [
    "# we will evaluate the skew of each variable.\n",
    "outcomes_and_covariantes = all_covariates + [classification_target]\n",
    "\n",
    "plotting_variables = ['timestamp', 'alfa', 'lids', 'magnitude', classification_target]\n",
    "axes = pd.plotting.scatter_matrix(df[plotting_variables], alpha=0.15, \\\n",
    "       color=(0,0,0), hist_kwds={\"color\":(0,0,0)}, facecolor=(1,0,0))\n",
    "plt.show()\n",
    "\n",
    "print(df[outcomes_and_covariantes].skew())"
   ]
  },
  {
   "cell_type": "code",
   "execution_count": 7,
   "id": "b66830a4",
   "metadata": {},
   "outputs": [
    {
     "name": "stdout",
     "output_type": "stream",
     "text": [
      "alfa        -3.031844\n",
      "beta        -0.237234\n",
      "lids        -1.872305\n",
      "magnitude    1.824255\n",
      "x           -1.727916\n",
      "y           -1.542558\n",
      "z           -0.639096\n",
      "timestamp    0.000000\n",
      "label        0.601406\n",
      "dtype: float64\n"
     ]
    }
   ],
   "source": [
    "for covariate in all_covariates:\n",
    "    df[covariate] = df[covariate].apply(lambda x: np.log10(1+x))\n",
    "\n",
    "print(df[outcomes_and_covariantes].skew())"
   ]
  },
  {
   "cell_type": "markdown",
   "id": "e6ddd165",
   "metadata": {},
   "source": [
    "### Data Visualisation"
   ]
  },
  {
   "cell_type": "code",
   "execution_count": 8,
   "id": "523ebeeb",
   "metadata": {},
   "outputs": [
    {
     "data": {
      "image/png": "[encoded data removed]",
      "text/plain": [
       "<Figure size 432x288 with 1 Axes>"
      ]
     },
     "metadata": {},
     "output_type": "display_data"
    }
   ],
   "source": [
    "#%% Analyzing class label distribution\n",
    "sns.set_style('whitegrid')\n",
    "sns.countplot(x = 'label', data = df)\n",
    "plt.title('Number of samples by activity')\n",
    "plt.show()"
   ]
  },
  {
   "cell_type": "code",
   "execution_count": 9,
   "id": "72f7ae34",
   "metadata": {},
   "outputs": [
    {
     "data": {
      "image/png": "[encoded data removed]",
      "text/plain": [
       "<Figure size 432x288 with 3 Axes>"
      ]
     },
     "metadata": {},
     "output_type": "display_data"
    }
   ],
   "source": [
    "#%% plot the diferents variables\n",
    "timestamp = df.timestamp\n",
    "label = df.label\n",
    "av = df.magnitude\n",
    "x = df.x\n",
    "y = df.y\n",
    "z = df.z\n",
    "\n",
    "fig, axs = plt.subplots(3)\n",
    "axs[0].plot(timestamp, x, \"o\", ms=2, c=\"#00cc44\")\n",
    "axs[1].plot(timestamp, y, \"o\", ms=2, c=\"#ff7700\")\n",
    "axs[2].plot(timestamp, z, \"o\", ms=2, c=\"#ff0000\")\n",
    "axs[0].set(xlabel =\"timestamp\", ylabel=\"x\")\n",
    "axs[1].set(xlabel =\"timestamp\", ylabel=\"y\")\n",
    "axs[2].set(xlabel =\"timestamp\", ylabel=\"z\")\n",
    "plt.tight_layout()\n",
    "plt.show()\n"
   ]
  },
  {
   "cell_type": "code",
   "execution_count": 10,
   "id": "b5b2599e",
   "metadata": {},
   "outputs": [
    {
     "data": {
      "image/png": "[encoded data removed]",
      "text/plain": [
       "<Figure size 432x288 with 1 Axes>"
      ]
     },
     "metadata": {},
     "output_type": "display_data"
    },
    {
     "data": {
      "image/png": "[encoded data removed]",
      "text/plain": [
       "<Figure size 432x288 with 1 Axes>"
      ]
     },
     "metadata": {},
     "output_type": "display_data"
    }
   ],
   "source": [
    "def plot_data(variable1, variable2):\n",
    "    plt.figure()\n",
    "    plt.plot(variable1, variable2, 'tab:green')\n",
    "    plt.xlabel(\"{}\".format(variable1.name))\n",
    "    plt.ylabel(\"{}\".format(variable2.name))\n",
    "    plt.show()\n",
    "\n",
    "plot_data(timestamp, label)\n",
    "plot_data(timestamp, av)"
   ]
  },
  {
   "cell_type": "markdown",
   "id": "892bf2f0",
   "metadata": {},
   "source": [
    "## Building classification models"
   ]
  },
  {
   "cell_type": "markdown",
   "id": "f7b9b297",
   "metadata": {},
   "source": [
    "### Cross-validated performance for the linear and random forest classification models\n",
    "we will compute cross-validated performance for the linear and random forest classification models.\n",
    "Instantiate all regression models and classifiers."
   ]
  },
  {
   "cell_type": "code",
   "execution_count": 11,
   "id": "3048437b",
   "metadata": {},
   "outputs": [
    {
     "data": {
      "image/png": "[encoded data removed]",
      "text/plain": [
       "<Figure size 432x288 with 1 Axes>"
      ]
     },
     "metadata": {},
     "output_type": "display_data"
    }
   ],
   "source": [
    "logistic_regression = LogisticRegression()\n",
    "forest_classifier = RandomForestClassifier(max_depth=4, random_state=0)\n",
    "\n",
    "def accuracy(estimator, X, y):\n",
    "    predictions = estimator.fit(X, y).predict(X)\n",
    "    return accuracy_score(predictions, y)\n",
    "\n",
    "# Determine the cross-validated accuracy for logistic and random forest models.\n",
    "logistic_regression_scores = cross_val_score(logistic_regression, covariates, classification_outcome, cv=10, scoring=accuracy)\n",
    "forest_classification_scores = cross_val_score(forest_classifier, covariates, classification_outcome, cv=10, scoring=accuracy)\n",
    "# Plot Results\n",
    "plt.axes().set_aspect('equal', 'box')\n",
    "plt.scatter(logistic_regression_scores, forest_classification_scores)\n",
    "plt.plot((0, 1), (0, 1), 'k-')\n",
    "\n",
    "plt.xlim(0, 1)\n",
    "plt.ylim(0, 1)\n",
    "plt.xlabel(\"Linear Classification Score\")\n",
    "plt.ylabel(\"Forest Classification Score\")\n",
    "\n",
    "# Show the plot.\n",
    "plt.show()"
   ]
  },
  {
   "cell_type": "markdown",
   "id": "b8bfce4c",
   "metadata": {},
   "source": [
    "According to the graph, the Forest Classification algorithm is chosen instead of the Linear Classification algorithm."
   ]
  },
  {
   "cell_type": "markdown",
   "id": "a64dff68",
   "metadata": {},
   "source": [
    "### Imbalanced data\n",
    "We observed from our data that some labels occur more frequently than others leading to an imbalanced dataset. Such data needs to be handled with care when used with machine learning models since the model might learn to always predict the class with the majority of samples.For this reason we use the SMOTE technique."
   ]
  },
  {
   "cell_type": "code",
   "execution_count": 12,
   "id": "9af02972",
   "metadata": {},
   "outputs": [],
   "source": [
    "#%%Use SMOTE to oversample the minority class\n",
    "oversample = SMOTE()\n",
    "over_X, over_y = oversample.fit_resample(covariates, classification_outcome)\n",
    "over_X_train, over_X_test, over_y_train, over_y_test = train_test_split(over_X, over_y, test_size=0.2, stratify=over_y)"
   ]
  },
  {
   "cell_type": "markdown",
   "id": "0bcb78b5",
   "metadata": {},
   "source": [
    "### Build a Random Forest Classifier SMOTE SRF model"
   ]
  },
  {
   "cell_type": "code",
   "execution_count": 13,
   "id": "20f1d17b",
   "metadata": {},
   "outputs": [
    {
     "name": "stdout",
     "output_type": "stream",
     "text": [
      "dict_keys(['fit_time', 'score_time', 'test_precision_macro', 'train_precision_macro', 'test_recall_macro', 'train_recall_macro'])\n",
      "{'fit_time': array([0.20776081, 0.28152442, 0.2043345 , 0.20744514, 0.1953311 ,\n",
      "       0.19681573, 0.26690912, 0.24393725, 0.19607449, 0.19070911,\n",
      "       0.23184228, 0.21888137]), 'score_time': array([0.02026463, 0.02377319, 0.01595592, 0.02349854, 0.01595688,\n",
      "       0.0148747 , 0.02293849, 0.01595759, 0.0159564 , 0.01695561,\n",
      "       0.01795292, 0.01657581]), 'test_precision_macro': array([0.80734037, 0.79464047, 0.83323397, 0.78474982, 0.79220474,\n",
      "       0.77108516, 0.77275428, 0.80424315, 0.8249887 , 0.78382353,\n",
      "       0.80482804, 0.72853972]), 'train_precision_macro': array([1., 1., 1., 1., 1., 1., 1., 1., 1., 1., 1., 1.]), 'test_recall_macro': array([0.81149546, 0.79411251, 0.82555905, 0.78913347, 0.79245283,\n",
      "       0.76624738, 0.77428372, 0.80328442, 0.82573375, 0.78467855,\n",
      "       0.8024109 , 0.72344514]), 'train_recall_macro': array([1., 1., 1., 1., 1., 1., 1., 1., 1., 1., 1., 1.])}\n",
      "Test Precision: 0.792\n"
     ]
    }
   ],
   "source": [
    "#%% Build a Random Forest Classifier SMOTE SRF model\n",
    "SMOTE_SRF = RandomForestClassifier(n_estimators=150, random_state=0)\n",
    "\n",
    "#Create Stratified K-fold cross validation\n",
    "cv = RepeatedStratifiedKFold(n_splits=4, n_repeats=3, random_state=0)\n",
    "#Evaluate SMOTE SRF model\n",
    "scoring = ('precision_macro', 'recall_macro')\n",
    "scores = cross_validate(SMOTE_SRF, over_X, over_y, cv=cv, scoring=scoring, return_train_score=True)\n",
    "print(scores.keys())\n",
    "print(scores)\n",
    "print('Test Precision: %.3f' % mean(scores['test_precision_macro']))"
   ]
  },
  {
   "cell_type": "code",
   "execution_count": 14,
   "id": "ab178b60",
   "metadata": {},
   "outputs": [
    {
     "name": "stdout",
     "output_type": "stream",
     "text": [
      "(300, 8) (300,)\n",
      "(75, 8) (75,)\n",
      "Predicted Result  1   2   3  4\n",
      "Actual Result                 \n",
      "1                 5   0   0  0\n",
      "2                 0  41   1  1\n",
      "3                 0   0  18  0\n",
      "4                 0   0   0  9\n"
     ]
    }
   ],
   "source": [
    "#%% Split the data into train and test sets\n",
    "X_train, X_test, y_train, y_test = train_test_split(covariates, classification_outcome, test_size=0.2, stratify=classification_outcome)\n",
    "print (X_train.shape, y_train.shape)\n",
    "print (X_test.shape, y_test.shape)\n",
    "\n",
    "SMOTE_SRF.fit(over_X_train, over_y_train)\n",
    "\n",
    "# Predict\n",
    "preds = SMOTE_SRF.predict(X_test)\n",
    "\n",
    "# Check the Accuracy of the Model\n",
    "# Check the accuracy of the model, we will check how the predictions stack up against the actual test set values.\n",
    "print(pd.crosstab(y_test, preds, rownames=['Actual Result'], colnames=['Predicted Result']))"
   ]
  },
  {
   "cell_type": "markdown",
   "id": "e9feea14",
   "metadata": {},
   "source": [
    "### Model accuracy"
   ]
  },
  {
   "cell_type": "code",
   "execution_count": 15,
   "id": "3fffb282",
   "metadata": {},
   "outputs": [
    {
     "name": "stdout",
     "output_type": "stream",
     "text": [
      "0.9733333333333334\n"
     ]
    }
   ],
   "source": [
    "print(accuracy_score(y_test, preds))"
   ]
  },
  {
   "cell_type": "code",
   "execution_count": 16,
   "id": "9f10637f",
   "metadata": {},
   "outputs": [
    {
     "name": "stdout",
     "output_type": "stream",
     "text": [
      "[('lids', 0.0867596391478782), ('magnitude', 0.10493046550631903), ('x', 0.1102738602947862), ('alfa', 0.11662557236462821), ('z', 0.12026108845532885), ('y', 0.14695675238940661), ('beta', 0.15455685307208245), ('timestamp', 0.1596357687695705)]\n"
     ]
    }
   ],
   "source": [
    "#%% Check Feature Importance\n",
    "print(sorted(list(zip(covariates, SMOTE_SRF.feature_importances_)), key=lambda tup: tup[1]))"
   ]
  },
  {
   "cell_type": "markdown",
   "id": "34e3574a",
   "metadata": {},
   "source": [
    "## Activity Classification\n",
    "To test the encoding we use the test_time_series.csv file. The results of the predictions are stored in a column called 'label' in the data frame called 'df_test_labels'. The final results of the prediction are saved in a file called 'predictions.csv', which corresponds to the file 'test_labels.csv' but with the column 'label' of the final results."
   ]
  },
  {
   "cell_type": "code",
   "execution_count": 17,
   "id": "d13d57e6",
   "metadata": {},
   "outputs": [
    {
     "name": "stdout",
     "output_type": "stream",
     "text": [
      "    code      timestamp                 UTC time accuracy         x         y  \\\n",
      "0  24330  1565110306139  2019-08-06T16:51:46.139  unknown  0.034286 -1.504456   \n",
      "1  24331  1565110306239  2019-08-06T16:51:46.239  unknown  0.409164 -1.038544   \n",
      "2  24332  1565110306340  2019-08-06T16:51:46.340  unknown -0.234390 -0.984558   \n",
      "3  24333  1565110306440  2019-08-06T16:51:46.440  unknown  0.251114 -0.787003   \n",
      "4  24334  1565110306540  2019-08-06T16:51:46.540  unknown  0.109924 -0.169510   \n",
      "\n",
      "          z  \n",
      "0  0.157623  \n",
      "1  0.030975  \n",
      "2  0.124771  \n",
      "3  0.054810  \n",
      "4  0.235550  \n",
      "    code      timestamp                 UTC time  label\n",
      "0  24339  1565110307041  2019-08-06T16:51:47.041    NaN\n",
      "1  24349  1565110308043  2019-08-06T16:51:48.043    NaN\n",
      "2  24359  1565110309046  2019-08-06T16:51:49.046    NaN\n",
      "3  24369  1565110310048  2019-08-06T16:51:50.048    NaN\n",
      "4  24379  1565110311050  2019-08-06T16:51:51.050    NaN\n"
     ]
    }
   ],
   "source": [
    "#%%  load the different test .csv files\n",
    "df_test_time = pd.read_csv('test_time_series.csv')\n",
    "df_test_labels = pd.read_csv('test_labels.csv')\n",
    "\n",
    "df_test_time.rename(columns={'Unnamed: 0': 'code'}, inplace=True)\n",
    "df_test_labels.rename(columns={'Unnamed: 0': 'code'}, inplace=True)\n",
    "print(df_test_time.head())\n",
    "print(df_test_labels.head())\n",
    "\n",
    "x_1 = df_test_time.x\n",
    "y_1 = df_test_time.y\n",
    "z_1 = df_test_time.z\n",
    "inicio = 9\n",
    "df_test = calculos_engineer(x_1, y_1, z_1, df_test_time, df_test_labels, inicio)\n",
    "X_predictors = df_test[all_covariates]\n",
    "predictions=SMOTE_SRF.predict(X_predictors)\n",
    "\n",
    "# add to the data frame df_test_labels\n",
    "df_test_labels['label'] = predictions\n",
    "df_test_labels.to_csv('predictions.csv')"
   ]
  },
  {
   "cell_type": "markdown",
   "id": "3a3685e8",
   "metadata": {},
   "source": [
    "We create a confusion matrix."
   ]
  },
  {
   "cell_type": "code",
   "execution_count": 18,
   "id": "5b5fd263",
   "metadata": {},
   "outputs": [
    {
     "data": {
      "image/png": "[encoded data removed]",
      "text/plain": [
       "<Figure size 432x288 with 2 Axes>"
      ]
     },
     "metadata": {},
     "output_type": "display_data"
    }
   ],
   "source": [
    "#%% Create confusion matrix\n",
    "fig = plot_confusion_matrix(SMOTE_SRF, X_test, y_test, display_labels=['1', '2', '3', '4'], cmap='Greens')\n",
    "plt.title('SMOTE + Standard Random Forest Confusion Matrix')\n",
    "plt.show()"
   ]
  },
  {
   "cell_type": "markdown",
   "id": "33d331ec",
   "metadata": {},
   "source": [
    "### Code Run Time"
   ]
  },
  {
   "cell_type": "code",
   "execution_count": 19,
   "id": "94a86420",
   "metadata": {},
   "outputs": [
    {
     "name": "stdout",
     "output_type": "stream",
     "text": [
      "8.515625\n"
     ]
    }
   ],
   "source": [
    "#%% Code Run Time\n",
    "end_time=time.process_time() \n",
    "elapsed_time=end_time - start_time \n",
    "print(elapsed_time)"
   ]
  }
 ],
 "metadata": {
  "interpreter": {
   "hash": "40823a8453cb8c198c471c0c9c81cbe4b845db2a6c7c058f0980b0698f8f6a0a"
  },
  "kernelspec": {
   "display_name": "Python 3.9.12 ('spyder-env')",
   "language": "python",
   "name": "python3"
  },
  "language_info": {
   "codemirror_mode": {
    "name": "ipython",
    "version": 3
   },
   "file_extension": ".py",
   "mimetype": "text/x-python",
   "name": "python",
   "nbconvert_exporter": "python",
   "pygments_lexer": "ipython3",
   "version": "3.9.12"
  }
 },
 "nbformat": 4,
 "nbformat_minor": 5
}
